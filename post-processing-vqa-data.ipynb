{
 "cells": [
  {
   "cell_type": "code",
   "execution_count": 1,
   "id": "474333f7",
   "metadata": {
    "_cell_guid": "b1076dfc-b9ad-4769-8c92-a6c4dae69d19",
    "_uuid": "8f2839f25d086af736a60e9eeb907d3b93b6e0e5",
    "execution": {
     "iopub.execute_input": "2025-02-28T01:03:46.334623Z",
     "iopub.status.busy": "2025-02-28T01:03:46.334234Z",
     "iopub.status.idle": "2025-02-28T01:03:46.339345Z",
     "shell.execute_reply": "2025-02-28T01:03:46.338531Z"
    },
    "papermill": {
     "duration": 0.011737,
     "end_time": "2025-02-28T01:03:46.340670",
     "exception": false,
     "start_time": "2025-02-28T01:03:46.328933",
     "status": "completed"
    },
    "tags": []
   },
   "outputs": [],
   "source": [
    "import os\n",
    "import json\n",
    "import random"
   ]
  },
  {
   "cell_type": "code",
   "execution_count": 2,
   "id": "478a2736",
   "metadata": {
    "execution": {
     "iopub.execute_input": "2025-02-28T01:03:46.348453Z",
     "iopub.status.busy": "2025-02-28T01:03:46.348198Z",
     "iopub.status.idle": "2025-02-28T01:03:46.771857Z",
     "shell.execute_reply": "2025-02-28T01:03:46.771040Z"
    },
    "papermill": {
     "duration": 0.429227,
     "end_time": "2025-02-28T01:03:46.773606",
     "exception": false,
     "start_time": "2025-02-28T01:03:46.344379",
     "status": "completed"
    },
    "tags": []
   },
   "outputs": [],
   "source": [
    "with open(f'/kaggle/input/vqa-labeled/image2id.json', 'r') as f:\n",
    "    image2id = json.load(f)\n",
    "with open(f'/kaggle/input/vqa-labeled/id2image.json', 'r') as f:\n",
    "    id2image = json.load(f)\n",
    "with open(f'/kaggle/input/vqa-labeled/error_image.json', 'r') as f:\n",
    "    error_image = json.load(f)\n",
    "with open(f'/kaggle/input/vqa-labeled/annotations.json', 'r') as f:\n",
    "    combined_annotations = json.load(f)"
   ]
  },
  {
   "cell_type": "code",
   "execution_count": 3,
   "id": "2b8f5370",
   "metadata": {
    "execution": {
     "iopub.execute_input": "2025-02-28T01:03:46.781644Z",
     "iopub.status.busy": "2025-02-28T01:03:46.781349Z",
     "iopub.status.idle": "2025-02-28T01:03:46.789634Z",
     "shell.execute_reply": "2025-02-28T01:03:46.788869Z"
    },
    "papermill": {
     "duration": 0.013956,
     "end_time": "2025-02-28T01:03:46.791102",
     "exception": false,
     "start_time": "2025-02-28T01:03:46.777146",
     "status": "completed"
    },
    "tags": []
   },
   "outputs": [],
   "source": [
    "count = {\n",
    "    \"yes\": 0,\n",
    "    \"no\": 0\n",
    "}\n",
    "def get_opposite_position(position):\n",
    "    opposite = {\n",
    "        \"above\": \"below\",\n",
    "        \"below\": \"above\",\n",
    "        \"behind\": \"front\",\n",
    "        \"front\": \"behind\",\n",
    "        \"left\": \"right\",\n",
    "        \"right\": \"left\"\n",
    "    }\n",
    "    return opposite.get(position, position)\n",
    "\n",
    "def get_random_color(exclude_color, color_list):\n",
    "    available_colors = [c for c in color_list if c != exclude_color]\n",
    "    return random.choice(available_colors) if available_colors else exclude_color\n",
    "    \n",
    "def modify_yes_no_questions(annotations, position_list, color_list):\n",
    "    modified_annotations = []\n",
    "    for qa_pair in annotations:\n",
    "        question = qa_pair[\"question\"]\n",
    "        answer = qa_pair[\"answer\"]\n",
    "        \n",
    "        if answer.lower() == \"yes\":\n",
    "            words = question.split()\n",
    "            modified = False\n",
    "            \n",
    "            for i, word in enumerate(words):\n",
    "                if word in position_list:\n",
    "                    words[i] = get_opposite_position(word)\n",
    "                    modified = True\n",
    "                    break  # Modify only one term per question\n",
    "                elif word in color_list:\n",
    "                    words[i] = get_random_color(word, color_list)\n",
    "                    modified = True\n",
    "                    break\n",
    "            \n",
    "            if modified:\n",
    "                if random.random() < 0.5:\n",
    "                    count[\"no\"] += 1\n",
    "                    modified_annotation = \" \".join(words)\n",
    "                    modified_annotations.append({\"question\": modified_annotation, \"answer\": \"No\"})\n",
    "                else:\n",
    "                    count[\"yes\"] += 1\n",
    "            else:\n",
    "                modified_annotations.append(qa_pair)\n",
    "        else: \n",
    "            modified_annotations.append(qa_pair)\n",
    "    \n",
    "    return modified_annotations"
   ]
  },
  {
   "cell_type": "code",
   "execution_count": 4,
   "id": "6ef05130",
   "metadata": {
    "execution": {
     "iopub.execute_input": "2025-02-28T01:03:46.799025Z",
     "iopub.status.busy": "2025-02-28T01:03:46.798663Z",
     "iopub.status.idle": "2025-02-28T01:03:47.691106Z",
     "shell.execute_reply": "2025-02-28T01:03:47.690030Z"
    },
    "papermill": {
     "duration": 0.898153,
     "end_time": "2025-02-28T01:03:47.692742",
     "exception": false,
     "start_time": "2025-02-28T01:03:46.794589",
     "status": "completed"
    },
    "tags": []
   },
   "outputs": [
    {
     "name": "stdout",
     "output_type": "stream",
     "text": [
      "label-vqa-dataset-raw\n",
      "label-vqa-dataset-raw-10\n",
      "label-vqa-dataset-raw-13\n",
      "label-vqa-dataset-raw-16\n",
      "label-vqa-dataset-raw-19\n",
      "label-vqa-dataset-raw-25\n",
      "label-vqa-dataset-raw-28\n",
      "label-vqa-dataset-raw-3\n",
      "label-vqa-dataset-raw-30\n",
      "label-vqa-dataset-raw-5\n",
      "label-vqa-dataset-raw-8\n"
     ]
    }
   ],
   "source": [
    "total = 0\n",
    "error = 0\n",
    "error_2 = 0\n",
    "error_llm = None\n",
    "clean_error_llm = []\n",
    "position = [\"above\", \"below\", \"behind\", \"front\", \"left\", \"right\"]\n",
    "color  = ['black', 'blue', 'brown', 'green', 'grey', 'orange', 'pink', 'purple', 'red', 'white', 'yellow']\n",
    "yes_no = ['yes', 'no']\n",
    "for folder in sorted(os.listdir(\"/kaggle/input\")):\n",
    "    if folder != \"vqa-labeled\":\n",
    "        path = os.path.join(\"/kaggle/input\", folder)\n",
    "        print(folder)\n",
    "        with open(f'{path}/annotations.json', 'r') as f:\n",
    "            annotations = json.load(f)\n",
    "        for annotate in annotations:\n",
    "            if len(annotate[\"annotations\"]) > 0:\n",
    "                total += 1\n",
    "                filtered_annotations = []\n",
    "                for pairs in annotate[\"annotations\"]:\n",
    "                    if pairs['answer'].lower() in position or pairs['answer'].lower() in color or pairs['answer'].lower() in yes_no:\n",
    "                        filtered_annotations.append(pairs)\n",
    "                \n",
    "                modified_annotations = modify_yes_no_questions(filtered_annotations, position, color)\n",
    "                combined_annotations[annotate[\"image_id\"]][\"annotations\"].extend(modified_annotations)\n",
    "            else:\n",
    "                error += 1\n",
    "        with open(f'{path}/error_llm.json', 'r') as f:\n",
    "            error_llm = json.load(f)\n",
    "        filtered_error = [x for x in error_llm if isinstance(x, int)]\n",
    "        clean_error_llm.extend(filtered_error)\n",
    "        error_2 += len(filtered_error)"
   ]
  },
  {
   "cell_type": "code",
   "execution_count": 5,
   "id": "b30e9de5",
   "metadata": {
    "execution": {
     "iopub.execute_input": "2025-02-28T01:03:47.701032Z",
     "iopub.status.busy": "2025-02-28T01:03:47.700687Z",
     "iopub.status.idle": "2025-02-28T01:03:47.706627Z",
     "shell.execute_reply": "2025-02-28T01:03:47.705697Z"
    },
    "papermill": {
     "duration": 0.011692,
     "end_time": "2025-02-28T01:03:47.708204",
     "exception": false,
     "start_time": "2025-02-28T01:03:47.696512",
     "status": "completed"
    },
    "tags": []
   },
   "outputs": [
    {
     "data": {
      "text/plain": [
       "{'yes': 10806, 'no': 10887}"
      ]
     },
     "execution_count": 5,
     "metadata": {},
     "output_type": "execute_result"
    }
   ],
   "source": [
    "count"
   ]
  },
  {
   "cell_type": "code",
   "execution_count": 6,
   "id": "01af282c",
   "metadata": {
    "execution": {
     "iopub.execute_input": "2025-02-28T01:03:47.716653Z",
     "iopub.status.busy": "2025-02-28T01:03:47.716361Z",
     "iopub.status.idle": "2025-02-28T01:03:49.699127Z",
     "shell.execute_reply": "2025-02-28T01:03:49.698125Z"
    },
    "papermill": {
     "duration": 1.988693,
     "end_time": "2025-02-28T01:03:49.700763",
     "exception": false,
     "start_time": "2025-02-28T01:03:47.712070",
     "status": "completed"
    },
    "tags": []
   },
   "outputs": [
    {
     "name": "stdout",
     "output_type": "stream",
     "text": [
      "\n",
      "DataFrame with image_path:\n"
     ]
    },
    {
     "data": {
      "text/html": [
       "<div>\n",
       "<style scoped>\n",
       "    .dataframe tbody tr th:only-of-type {\n",
       "        vertical-align: middle;\n",
       "    }\n",
       "\n",
       "    .dataframe tbody tr th {\n",
       "        vertical-align: top;\n",
       "    }\n",
       "\n",
       "    .dataframe thead th {\n",
       "        text-align: right;\n",
       "    }\n",
       "</style>\n",
       "<table border=\"1\" class=\"dataframe\">\n",
       "  <thead>\n",
       "    <tr style=\"text-align: right;\">\n",
       "      <th></th>\n",
       "      <th>image_id</th>\n",
       "      <th>question</th>\n",
       "      <th>answer</th>\n",
       "      <th>image_path</th>\n",
       "    </tr>\n",
       "  </thead>\n",
       "  <tbody>\n",
       "    <tr>\n",
       "      <th>0</th>\n",
       "      <td>0</td>\n",
       "      <td>How many person in image?</td>\n",
       "      <td>1</td>\n",
       "      <td>airplane/14712178869_d91526ac2d_b.jpg</td>\n",
       "    </tr>\n",
       "    <tr>\n",
       "      <th>1</th>\n",
       "      <td>0</td>\n",
       "      <td>Are there any person in image?</td>\n",
       "      <td>Yes</td>\n",
       "      <td>airplane/14712178869_d91526ac2d_b.jpg</td>\n",
       "    </tr>\n",
       "    <tr>\n",
       "      <th>2</th>\n",
       "      <td>0</td>\n",
       "      <td>What is the name of the object in the image?</td>\n",
       "      <td>person</td>\n",
       "      <td>airplane/14712178869_d91526ac2d_b.jpg</td>\n",
       "    </tr>\n",
       "    <tr>\n",
       "      <th>3</th>\n",
       "      <td>0</td>\n",
       "      <td>Are there any bear in image?</td>\n",
       "      <td>No</td>\n",
       "      <td>airplane/14712178869_d91526ac2d_b.jpg</td>\n",
       "    </tr>\n",
       "    <tr>\n",
       "      <th>4</th>\n",
       "      <td>0</td>\n",
       "      <td>Is the thumb near the door?</td>\n",
       "      <td>Yes</td>\n",
       "      <td>airplane/14712178869_d91526ac2d_b.jpg</td>\n",
       "    </tr>\n",
       "    <tr>\n",
       "      <th>...</th>\n",
       "      <td>...</td>\n",
       "      <td>...</td>\n",
       "      <td>...</td>\n",
       "      <td>...</td>\n",
       "    </tr>\n",
       "    <tr>\n",
       "      <th>235418</th>\n",
       "      <td>23010</td>\n",
       "      <td>Is the zebra in the background?</td>\n",
       "      <td>Yes</td>\n",
       "      <td>zebra/zebra-zebra-crossing-animals-black-and-w...</td>\n",
       "    </tr>\n",
       "    <tr>\n",
       "      <th>235419</th>\n",
       "      <td>23010</td>\n",
       "      <td>What color are the stripes?</td>\n",
       "      <td>Black</td>\n",
       "      <td>zebra/zebra-zebra-crossing-animals-black-and-w...</td>\n",
       "    </tr>\n",
       "    <tr>\n",
       "      <th>235420</th>\n",
       "      <td>23010</td>\n",
       "      <td>What is the other color of the stripes?</td>\n",
       "      <td>White</td>\n",
       "      <td>zebra/zebra-zebra-crossing-animals-black-and-w...</td>\n",
       "    </tr>\n",
       "    <tr>\n",
       "      <th>235421</th>\n",
       "      <td>23010</td>\n",
       "      <td>Are there blue stripes?</td>\n",
       "      <td>No</td>\n",
       "      <td>zebra/zebra-zebra-crossing-animals-black-and-w...</td>\n",
       "    </tr>\n",
       "    <tr>\n",
       "      <th>235422</th>\n",
       "      <td>23010</td>\n",
       "      <td>Is the object a Zebra?</td>\n",
       "      <td>Yes</td>\n",
       "      <td>zebra/zebra-zebra-crossing-animals-black-and-w...</td>\n",
       "    </tr>\n",
       "  </tbody>\n",
       "</table>\n",
       "<p>235423 rows × 4 columns</p>\n",
       "</div>"
      ],
      "text/plain": [
       "        image_id                                      question  answer  \\\n",
       "0              0                     How many person in image?       1   \n",
       "1              0                Are there any person in image?     Yes   \n",
       "2              0  What is the name of the object in the image?  person   \n",
       "3              0                  Are there any bear in image?      No   \n",
       "4              0                   Is the thumb near the door?     Yes   \n",
       "...          ...                                           ...     ...   \n",
       "235418     23010               Is the zebra in the background?     Yes   \n",
       "235419     23010                   What color are the stripes?   Black   \n",
       "235420     23010       What is the other color of the stripes?   White   \n",
       "235421     23010                       Are there blue stripes?      No   \n",
       "235422     23010                        Is the object a Zebra?     Yes   \n",
       "\n",
       "                                               image_path  \n",
       "0                   airplane/14712178869_d91526ac2d_b.jpg  \n",
       "1                   airplane/14712178869_d91526ac2d_b.jpg  \n",
       "2                   airplane/14712178869_d91526ac2d_b.jpg  \n",
       "3                   airplane/14712178869_d91526ac2d_b.jpg  \n",
       "4                   airplane/14712178869_d91526ac2d_b.jpg  \n",
       "...                                                   ...  \n",
       "235418  zebra/zebra-zebra-crossing-animals-black-and-w...  \n",
       "235419  zebra/zebra-zebra-crossing-animals-black-and-w...  \n",
       "235420  zebra/zebra-zebra-crossing-animals-black-and-w...  \n",
       "235421  zebra/zebra-zebra-crossing-animals-black-and-w...  \n",
       "235422  zebra/zebra-zebra-crossing-animals-black-and-w...  \n",
       "\n",
       "[235423 rows x 4 columns]"
      ]
     },
     "execution_count": 6,
     "metadata": {},
     "output_type": "execute_result"
    }
   ],
   "source": [
    "import pandas as pd\n",
    "\n",
    "def annotations_to_dataframe(annotation_list, id2image=None, image2id=None):\n",
    "    \"\"\"\n",
    "    Converts a list of annotation dictionaries to a Pandas DataFrame.\n",
    "\n",
    "    Args:\n",
    "        annotation_list: A list of dictionaries, where each dictionary has the structure:\n",
    "            {image_id: int, annotations: list[Dict {\"questions\": str, \"answer\": str | int}]}\n",
    "        id2image: (Optional) A dictionary mapping image IDs to image paths.\n",
    "        image2id: (Optional) A dictionary mapping image paths to image IDs. (Not directly used in this function, but provided for context)\n",
    "\n",
    "    Returns:\n",
    "        pandas.DataFrame: A DataFrame where each row represents a question-answer pair\n",
    "                         for a specific image. Columns will be:\n",
    "                         'image_id', 'question', 'answer', and optionally 'image_path' if id2image is provided.\n",
    "    \"\"\"\n",
    "\n",
    "    data = []\n",
    "    for annotation_item in annotation_list:\n",
    "        image_id = annotation_item['image_id']\n",
    "        annotations = annotation_item['annotations']\n",
    "\n",
    "        for annotation in annotations:\n",
    "            question = annotation['question']\n",
    "            answer = annotation['answer']\n",
    "            data.append({\n",
    "                'image_id': image_id,\n",
    "                'question': question,\n",
    "                'answer': answer\n",
    "            })\n",
    "\n",
    "    df = pd.DataFrame(data)\n",
    "\n",
    "    if id2image:\n",
    "        df['image_path'] = df['image_id'].astype(str).map(id2image)\n",
    "    df['answer'] = df['answer'].astype(str)\n",
    "    return df\n",
    "\n",
    "df_annotations_with_path = annotations_to_dataframe(combined_annotations, id2image=id2image)\n",
    "print(\"\\nDataFrame with image_path:\")\n",
    "df_annotations_with_path.to_csv(\"data.csv\", index=False)\n",
    "df_annotations_with_path"
   ]
  },
  {
   "cell_type": "code",
   "execution_count": 7,
   "id": "8d99d3af",
   "metadata": {
    "execution": {
     "iopub.execute_input": "2025-02-28T01:03:49.709790Z",
     "iopub.status.busy": "2025-02-28T01:03:49.709501Z",
     "iopub.status.idle": "2025-02-28T01:03:50.356500Z",
     "shell.execute_reply": "2025-02-28T01:03:50.355232Z"
    },
    "papermill": {
     "duration": 0.653422,
     "end_time": "2025-02-28T01:03:50.358351",
     "exception": false,
     "start_time": "2025-02-28T01:03:49.704929",
     "status": "completed"
    },
    "tags": []
   },
   "outputs": [],
   "source": [
    "!cp /kaggle/input/vqa-labeled/id2image.json /kaggle/working/id2image.json\n",
    "!cp /kaggle/input/vqa-labeled/id2img.csv /kaggle/working/id2image.csv\n",
    "!cp /kaggle/input/vqa-labeled/image2id.json /kaggle/working/image2id.json\n",
    "!cp /kaggle/input/vqa-labeled/img2id.csv /kaggle/working/image2id.csv\n",
    "!cp /kaggle/input/vqa-labeled/error_image.json /kaggle/working/error_image.json"
   ]
  },
  {
   "cell_type": "code",
   "execution_count": 8,
   "id": "b2bc18a0",
   "metadata": {
    "execution": {
     "iopub.execute_input": "2025-02-28T01:03:50.368949Z",
     "iopub.status.busy": "2025-02-28T01:03:50.368581Z",
     "iopub.status.idle": "2025-02-28T01:03:50.375078Z",
     "shell.execute_reply": "2025-02-28T01:03:50.374056Z"
    },
    "papermill": {
     "duration": 0.013133,
     "end_time": "2025-02-28T01:03:50.376615",
     "exception": false,
     "start_time": "2025-02-28T01:03:50.363482",
     "status": "completed"
    },
    "tags": []
   },
   "outputs": [
    {
     "data": {
      "text/plain": [
       "12897"
      ]
     },
     "execution_count": 8,
     "metadata": {},
     "output_type": "execute_result"
    }
   ],
   "source": [
    "total"
   ]
  },
  {
   "cell_type": "code",
   "execution_count": 9,
   "id": "b8d94476",
   "metadata": {
    "execution": {
     "iopub.execute_input": "2025-02-28T01:03:50.386647Z",
     "iopub.status.busy": "2025-02-28T01:03:50.386357Z",
     "iopub.status.idle": "2025-02-28T01:03:50.391439Z",
     "shell.execute_reply": "2025-02-28T01:03:50.390454Z"
    },
    "papermill": {
     "duration": 0.011537,
     "end_time": "2025-02-28T01:03:50.392909",
     "exception": false,
     "start_time": "2025-02-28T01:03:50.381372",
     "status": "completed"
    },
    "tags": []
   },
   "outputs": [
    {
     "data": {
      "text/plain": [
       "7982"
      ]
     },
     "execution_count": 9,
     "metadata": {},
     "output_type": "execute_result"
    }
   ],
   "source": [
    "error"
   ]
  },
  {
   "cell_type": "code",
   "execution_count": 10,
   "id": "a014f4f6",
   "metadata": {
    "execution": {
     "iopub.execute_input": "2025-02-28T01:03:50.402398Z",
     "iopub.status.busy": "2025-02-28T01:03:50.402111Z",
     "iopub.status.idle": "2025-02-28T01:03:50.407304Z",
     "shell.execute_reply": "2025-02-28T01:03:50.406338Z"
    },
    "papermill": {
     "duration": 0.011425,
     "end_time": "2025-02-28T01:03:50.408639",
     "exception": false,
     "start_time": "2025-02-28T01:03:50.397214",
     "status": "completed"
    },
    "tags": []
   },
   "outputs": [
    {
     "data": {
      "text/plain": [
       "9337"
      ]
     },
     "execution_count": 10,
     "metadata": {},
     "output_type": "execute_result"
    }
   ],
   "source": [
    "error_2"
   ]
  },
  {
   "cell_type": "code",
   "execution_count": 11,
   "id": "c9f49587",
   "metadata": {
    "execution": {
     "iopub.execute_input": "2025-02-28T01:03:50.418373Z",
     "iopub.status.busy": "2025-02-28T01:03:50.418044Z",
     "iopub.status.idle": "2025-02-28T01:03:50.858380Z",
     "shell.execute_reply": "2025-02-28T01:03:50.857463Z"
    },
    "papermill": {
     "duration": 0.447234,
     "end_time": "2025-02-28T01:03:50.860252",
     "exception": false,
     "start_time": "2025-02-28T01:03:50.413018",
     "status": "completed"
    },
    "tags": []
   },
   "outputs": [],
   "source": [
    "with open(f'error_llm.json', 'w') as f:\n",
    "    f.write(json.dumps(clean_error_llm))\n",
    "with open(f'annotations.json', 'w') as f:\n",
    "    f.write(json.dumps(combined_annotations))"
   ]
  },
  {
   "cell_type": "code",
   "execution_count": 12,
   "id": "2b0a787a",
   "metadata": {
    "execution": {
     "iopub.execute_input": "2025-02-28T01:03:50.870353Z",
     "iopub.status.busy": "2025-02-28T01:03:50.870012Z",
     "iopub.status.idle": "2025-02-28T01:03:54.459041Z",
     "shell.execute_reply": "2025-02-28T01:03:54.457891Z"
    },
    "papermill": {
     "duration": 3.59634,
     "end_time": "2025-02-28T01:03:54.461142",
     "exception": false,
     "start_time": "2025-02-28T01:03:50.864802",
     "status": "completed"
    },
    "tags": []
   },
   "outputs": [],
   "source": [
    "import pandas as pd\n",
    "from datasets import Dataset, DatasetDict\n",
    "from sklearn.model_selection import train_test_split\n",
    "\n",
    "# Step 3: Split unique images (Train 70%, Validation 10%, Test 20%)\n",
    "unique_images = df_annotations_with_path[\"image_id\"].unique()\n",
    "train_ids, temp_ids = train_test_split(unique_images, test_size=0.3, random_state=42)\n",
    "val_ids, test_ids = train_test_split(temp_ids, test_size=0.35, random_state=42)\n",
    "\n",
    "# Step 4: Create train, validation, and test DataFrames\n",
    "train_df = df_annotations_with_path[df_annotations_with_path[\"image_id\"].isin(train_ids)]\n",
    "val_df = df_annotations_with_path[df_annotations_with_path[\"image_id\"].isin(val_ids)]\n",
    "test_df = df_annotations_with_path[df_annotations_with_path[\"image_id\"].isin(test_ids)]\n",
    "\n",
    "train_df.to_csv(\"train.csv\", index=False)\n",
    "val_df.to_csv(\"val.csv\", index=False)\n",
    "test_df.to_csv(\"test.csv\", index=False)"
   ]
  }
 ],
 "metadata": {
  "kaggle": {
   "accelerator": "none",
   "dataSources": [
    {
     "datasetId": 6690278,
     "sourceId": 10788492,
     "sourceType": "datasetVersion"
    },
    {
     "datasetId": 6695017,
     "sourceId": 10788494,
     "sourceType": "datasetVersion"
    },
    {
     "datasetId": 6695019,
     "sourceId": 10788497,
     "sourceType": "datasetVersion"
    },
    {
     "datasetId": 6695020,
     "sourceId": 10788499,
     "sourceType": "datasetVersion"
    },
    {
     "datasetId": 6696471,
     "sourceId": 10790931,
     "sourceType": "datasetVersion"
    },
    {
     "datasetId": 6696477,
     "sourceId": 10790938,
     "sourceType": "datasetVersion"
    },
    {
     "datasetId": 6699949,
     "sourceId": 10795656,
     "sourceType": "datasetVersion"
    },
    {
     "datasetId": 6699952,
     "sourceId": 10795660,
     "sourceType": "datasetVersion"
    },
    {
     "datasetId": 6702740,
     "sourceId": 10799537,
     "sourceType": "datasetVersion"
    },
    {
     "datasetId": 6709639,
     "sourceId": 10808969,
     "sourceType": "datasetVersion"
    },
    {
     "datasetId": 6709643,
     "sourceId": 10808973,
     "sourceType": "datasetVersion"
    },
    {
     "datasetId": 6670403,
     "sourceId": 10827655,
     "sourceType": "datasetVersion"
    }
   ],
   "dockerImageVersionId": 30886,
   "isGpuEnabled": false,
   "isInternetEnabled": true,
   "language": "python",
   "sourceType": "notebook"
  },
  "kernelspec": {
   "display_name": "Python 3",
   "language": "python",
   "name": "python3"
  },
  "language_info": {
   "codemirror_mode": {
    "name": "ipython",
    "version": 3
   },
   "file_extension": ".py",
   "mimetype": "text/x-python",
   "name": "python",
   "nbconvert_exporter": "python",
   "pygments_lexer": "ipython3",
   "version": "3.10.12"
  },
  "papermill": {
   "default_parameters": {},
   "duration": 11.908625,
   "end_time": "2025-02-28T01:03:55.491954",
   "environment_variables": {},
   "exception": null,
   "input_path": "__notebook__.ipynb",
   "output_path": "__notebook__.ipynb",
   "parameters": {},
   "start_time": "2025-02-28T01:03:43.583329",
   "version": "2.6.0"
  }
 },
 "nbformat": 4,
 "nbformat_minor": 5
}
