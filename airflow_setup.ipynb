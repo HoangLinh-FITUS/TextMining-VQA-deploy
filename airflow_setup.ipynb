{
 "cells": [
  {
   "cell_type": "markdown",
   "metadata": {},
   "source": [
    "# Airflow setup"
   ]
  },
  {
   "cell_type": "code",
   "execution_count": null,
   "metadata": {},
   "outputs": [],
   "source": [
    "import sys"
   ]
  },
  {
   "cell_type": "code",
   "execution_count": null,
   "metadata": {},
   "outputs": [],
   "source": [
    "# Define the Airflow version and Python version\n",
    "AIRFLOW_VERSION = \"2.10.4\"\n",
    "PYTHON_VERSION = f\"{sys.version_info.major}.{sys.version_info.minor}\"\n",
    "\n",
    "# Create the constraints URL for the specified version and Python version\n",
    "CONSTRAINT_URL = f\"https://raw.githubusercontent.com/apache/airflow/constraints-{AIRFLOW_VERSION}/constraints-{PYTHON_VERSION}.txt\"\n",
    "\n",
    "# Run the pip install command with the constraints file\n",
    "!pip install \"apache-airflow=={AIRFLOW_VERSION}\" --constraint \"{CONSTRAINT_URL}\""
   ]
  }
 ],
 "metadata": {
  "kernelspec": {
   "display_name": "Columbina",
   "language": "python",
   "name": "python3"
  },
  "language_info": {
   "name": "python",
   "version": "3.11.8"
  }
 },
 "nbformat": 4,
 "nbformat_minor": 2
}
